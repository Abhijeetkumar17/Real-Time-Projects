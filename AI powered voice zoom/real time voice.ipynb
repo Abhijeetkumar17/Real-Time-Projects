{
 "cells": [
  {
   "cell_type": "markdown",
   "metadata": {},
   "source": [
    "# Voice-Controlled Zoom In/Out using Speech Recognition and PyAutoGUI\n",
    "# Import necessary libraries"
   ]
  },
  {
   "cell_type": "code",
   "execution_count": 1,
   "metadata": {},
   "outputs": [],
   "source": [
    "import speech_recognition as sr\n",
    "import pyautogui"
   ]
  },
  {
   "cell_type": "markdown",
   "metadata": {},
   "source": [
    "## Step 1: Initialize the Speech Recognizer\n",
    "We use `sr.Recognizer()` to create a speech recognition object, which will process the spoken commands.\n",
    "# Initialize the speech recognizer"
   ]
  },
  {
   "cell_type": "code",
   "execution_count": 2,
   "metadata": {},
   "outputs": [],
   "source": [
    "recognizer = sr.Recognizer()"
   ]
  },
  {
   "cell_type": "markdown",
   "metadata": {},
   "source": [
    "## Step 2: Function to Recognize Voice Commands\n",
    "- The function `recognize_command()` listens for voice input.\n",
    "- Uses a microphone to capture audio.\n",
    "- Converts speech to text using Google's Speech Recognition.\n",
    "- Returns the recognized command in lowercase.\n",
    "- Handles errors like unclear speech or service unavailability."
   ]
  },
  {
   "cell_type": "code",
   "execution_count": 3,
   "metadata": {},
   "outputs": [],
   "source": [
    "def recognize_command():\n",
    "    with sr.Microphone() as source:\n",
    "        print(\"Listening for 'Zoom In' or 'Zoom Out'...\")\n",
    "        recognizer.adjust_for_ambient_noise(source)  # Adjust for background noise\n",
    "        audio = recognizer.listen(source)  # Capture audio\n",
    "\n",
    "        try:\n",
    "            command = recognizer.recognize_google(audio).lower()  # Convert speech to text\n",
    "            print(f\"You said: {command}\")\n",
    "            return command\n",
    "        except sr.UnknownValueError:\n",
    "            print(\"Sorry, I didn't catch that.\")\n",
    "            return None\n",
    "        except sr.RequestError:\n",
    "            print(\"Speech Recognition service unavailable.\")\n",
    "            return None"
   ]
  },
  {
   "cell_type": "markdown",
   "metadata": {},
   "source": [
    "## Step 3: Function to Control Zoom\n",
    "- Checks if the recognized command is \"zoom in\" or \"zoom out\".\n",
    "- Uses `pyautogui.hotkey(\"ctrl\", \"+\")` to zoom in.\n",
    "- Uses `pyautogui.hotkey(\"ctrl\", \"-\")` to zoom out.\n",
    "- If no valid command is found, it prints a message."
   ]
  },
  {
   "cell_type": "code",
   "execution_count": 4,
   "metadata": {},
   "outputs": [],
   "source": [
    "def zoom_control(command):\n",
    "    if \"zoom in\" in command:\n",
    "        pyautogui.hotkey(\"ctrl\", \"+\")  # Zoom In\n",
    "        print(\"Zooming In...\")\n",
    "    elif \"zoom out\" in command:\n",
    "        pyautogui.hotkey(\"ctrl\", \"-\")  # Zoom Out\n",
    "        print(\"Zooming Out...\")\n",
    "    else:\n",
    "        print(\"No zoom command detected.\")"
   ]
  },
  {
   "cell_type": "markdown",
   "metadata": {},
   "source": [
    "## Step 4: Continuous Voice Command Execution\n",
    "- Runs in a loop to continuously listen for commands.\n",
    "- Calls `recognize_command()` to get user input.\n",
    "- Passes the command to `zoom_control()` for execution.\n",
    "# Run continuously"
   ]
  },
  {
   "cell_type": "code",
   "execution_count": null,
   "metadata": {},
   "outputs": [],
   "source": [
    "while True:\n",
    "    user_command = recognize_command()\n",
    "    if user_command:\n",
    "        zoom_control(user_command)"
   ]
  },
  {
   "cell_type": "markdown",
   "metadata": {},
   "source": [
    "## Summary\n",
    "This project allows hands-free control of zooming functionality using voice commands. It continuously listens for user input and responds accordingly.\n",
    "\n",
    "### Possible Improvements:\n",
    "- Add more voice commands for other functionalities.\n",
    "- Improve error handling for noisy environments.\n",
    "- Integrate with a GUI for better user experience.\n",
    "\n",
    "### Applications:\n",
    "- Accessibility tools for visually impaired users.\n",
    "- Hands-free control for presentations and browsing.\n",
    "- Smart home and automation projects."
   ]
  }
 ],
 "metadata": {
  "kernelspec": {
   "display_name": "Python 3",
   "language": "python",
   "name": "python3"
  },
  "language_info": {
   "codemirror_mode": {
    "name": "ipython",
    "version": 3
   },
   "file_extension": ".py",
   "mimetype": "text/x-python",
   "name": "python",
   "nbconvert_exporter": "python",
   "pygments_lexer": "ipython3",
   "version": "3.11.9"
  }
 },
 "nbformat": 4,
 "nbformat_minor": 2
}
